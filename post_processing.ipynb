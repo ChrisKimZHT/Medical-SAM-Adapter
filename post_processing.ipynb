{
 "cells": [
  {
   "cell_type": "code",
   "execution_count": null,
   "metadata": {},
   "outputs": [],
   "source": [
    "import cv2\n",
    "import os\n",
    "import numpy as np\n",
    "from tqdm import tqdm\n",
    "from PIL import Image"
   ]
  },
  {
   "cell_type": "markdown",
   "metadata": {},
   "source": [
    "# Merge Image"
   ]
  },
  {
   "cell_type": "code",
   "execution_count": null,
   "metadata": {},
   "outputs": [],
   "source": [
    "def merge_images(input_dir, output_dir):\n",
    "    files = os.listdir(input_dir)\n",
    "    if not os.path.exists(output_dir):\n",
    "        os.makedirs(output_dir)\n",
    "    for file in tqdm(files):\n",
    "        if file.startswith(\"predictleft_\") and file.endswith(\".jpg\"):\n",
    "            left_image_path = os.path.join(input_dir, file)\n",
    "            right_image_id = file.removeprefix(\"predictleft_\").removesuffix(\".jpg\")\n",
    "            right_image_path = os.path.join(input_dir, f\"predictright_{right_image_id}.jpg\")\n",
    "            if os.path.exists(right_image_path):\n",
    "                left_image = Image.open(left_image_path)\n",
    "                right_image = Image.open(right_image_path)\n",
    "                right_image = right_image.transpose(Image.FLIP_LEFT_RIGHT)\n",
    "                merged_image = Image.new(\"1\", (640, 320))\n",
    "                merged_image.paste(left_image, (0, 0))\n",
    "                merged_image.paste(right_image, (320, 0))\n",
    "                output_path = os.path.join(output_dir, f\"{right_image_id}.png\")\n",
    "                merged_image.save(output_path)\n",
    "            else:\n",
    "                print(f\"Right Image Not Found: {right_image_path}\")"
   ]
  },
  {
   "cell_type": "code",
   "execution_count": null,
   "metadata": {},
   "outputs": [],
   "source": [
    "# log = \"mydataset_2023_12_26_15_48_14\"\n",
    "# merge_images(f\"./logs/{log}/Samples\", f\"./logs/{log}/Samples_merged\")"
   ]
  },
  {
   "cell_type": "code",
   "execution_count": null,
   "metadata": {},
   "outputs": [],
   "source": [
    "def merge_images_overlap(input_dir, output_dir):\n",
    "    files = os.listdir(input_dir)\n",
    "    if not os.path.exists(output_dir):\n",
    "        os.makedirs(output_dir)\n",
    "    for file in tqdm(files):\n",
    "        if file.startswith(\"predictleft_\") and file.endswith(\".jpg\"):\n",
    "            left_image_path = os.path.join(input_dir, file)\n",
    "            right_image_id = file.removeprefix(\"predictleft_\").removesuffix(\".jpg\")\n",
    "            right_image_path = os.path.join(input_dir, f\"predictright_{right_image_id}.jpg\")\n",
    "            if os.path.exists(right_image_path):\n",
    "                left_image = Image.open(left_image_path)\n",
    "                right_image = Image.open(right_image_path)\n",
    "                right_image = right_image.transpose(Image.FLIP_LEFT_RIGHT)\n",
    "                left_temp = Image.new(\"1\", (640, 320))\n",
    "                right_temp = Image.new(\"1\", (640, 320))\n",
    "                left_temp.paste(left_image, (30, 0))\n",
    "                right_temp.paste(right_image, (290, 0))\n",
    "                merged_image = ImageChops.logical_or(left_temp, right_temp)\n",
    "                output_path = os.path.join(output_dir, f\"{right_image_id}.png\")\n",
    "                merged_image.save(output_path)\n",
    "            else:\n",
    "                print(f\"Right Image Not Found: {right_image_path}\")"
   ]
  },
  {
   "cell_type": "code",
   "execution_count": null,
   "metadata": {},
   "outputs": [],
   "source": [
    "# log = \"mydataset_2023_12_26_15_48_14\"\n",
    "# merge_images_overlap(f\"./logs/{log}/Samples\", f\"./logs/{log}/Samples_merged\")"
   ]
  },
  {
   "cell_type": "markdown",
   "metadata": {},
   "source": [
    "# Filter Small Components"
   ]
  },
  {
   "cell_type": "code",
   "execution_count": null,
   "metadata": {},
   "outputs": [],
   "source": [
    "def filter_small_connected_components(binary_image, threshold):\n",
    "    nb_components, output, stats, _ = cv2.connectedComponentsWithStats(binary_image, connectivity=8)\n",
    "    sizes = stats[:, -1]\n",
    "    filtered_image = np.zeros(output.shape)\n",
    "    for i in range(1, nb_components):\n",
    "        if sizes[i] >= threshold:\n",
    "            filtered_image[output == i] = 255\n",
    "    return filtered_image\n",
    "\n",
    "\n",
    "\n",
    "def process_images_in_directory(input_dir, output_dir, threshold):\n",
    "    os.makedirs(output_dir, exist_ok=True)\n",
    "    for filename in tqdm(os.listdir(input_dir)):\n",
    "        if filename.endswith((\".png\", \".jpg\", \".jpeg\")):\n",
    "            image_path = os.path.join(input_dir, filename)\n",
    "            binary_image = cv2.imread(image_path, cv2.IMREAD_GRAYSCALE)\n",
    "            filtered_image = filter_small_connected_components(binary_image, threshold).astype(np.bool_)\n",
    "            pil_image = Image.fromarray(filtered_image)\n",
    "            output_path = os.path.join(output_dir, filename)\n",
    "            pil_image.save(output_path)"
   ]
  },
  {
   "cell_type": "code",
   "execution_count": null,
   "metadata": {},
   "outputs": [],
   "source": [
    "log = \"mydataset_2023_12_26_12_47_36\"\n",
    "process_images_in_directory(f\"./logs/{log}/Samples_merged\", f\"./logs/{log}/Samples_merged_filtered\", 200)"
   ]
  },
  {
   "cell_type": "markdown",
   "metadata": {},
   "source": [
    "# Convert To Binary Image"
   ]
  },
  {
   "cell_type": "code",
   "execution_count": null,
   "metadata": {},
   "outputs": [],
   "source": [
    "def convert_to_binary(image_path, threshold=128):\n",
    "    img = Image.open(image_path)\n",
    "    gray_img = img.convert('L')\n",
    "    binary_img = gray_img.point(lambda pixel: 0 if pixel < threshold else 255, \"1\")\n",
    "    return binary_img\n",
    "\n",
    "\n",
    "def batch_convert_to_binary(input_directory, output_directory, threshold=128):\n",
    "    if not os.path.exists(output_directory):\n",
    "        os.makedirs(output_directory)\n",
    "\n",
    "    for filename in os.listdir(input_directory):\n",
    "        if filename.endswith(\".jpg\"):\n",
    "            input_path = os.path.join(input_directory, filename)\n",
    "            output_path = os.path.join(output_directory, filename.replace(\"predict\", \"\").replace(\".jpg\", \".png\"))\n",
    "            binary_image = convert_to_binary(input_path, threshold)\n",
    "            binary_image.save(output_path)"
   ]
  },
  {
   "cell_type": "code",
   "execution_count": null,
   "metadata": {},
   "outputs": [],
   "source": [
    "# log = \"mydataset_2023_12_26_15_48_14\"\n",
    "# batch_convert_to_binary(f\"./logs/{log}/Samples_merged\", f\"./logs/{log}/Samples_merged_binary\", 128)"
   ]
  }
 ],
 "metadata": {
  "kernelspec": {
   "display_name": "sam_adapt",
   "language": "python",
   "name": "python3"
  },
  "language_info": {
   "codemirror_mode": {
    "name": "ipython",
    "version": 3
   },
   "file_extension": ".py",
   "mimetype": "text/x-python",
   "name": "python",
   "nbconvert_exporter": "python",
   "pygments_lexer": "ipython3",
   "version": "3.10.11"
  }
 },
 "nbformat": 4,
 "nbformat_minor": 2
}
