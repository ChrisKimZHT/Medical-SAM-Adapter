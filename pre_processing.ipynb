{
 "cells": [
  {
   "cell_type": "code",
   "execution_count": 1,
   "metadata": {},
   "outputs": [],
   "source": [
    "import os\n",
    "import csv\n",
    "import random\n",
    "from PIL import Image\n",
    "from tqdm import tqdm"
   ]
  },
  {
   "cell_type": "markdown",
   "metadata": {},
   "source": [
    "# Split Train and Test"
   ]
  },
  {
   "cell_type": "code",
   "execution_count": 2,
   "metadata": {},
   "outputs": [],
   "source": [
    "def split(origin_image_path, origin_mask_path):\n",
    "    images = os.listdir(origin_image_path)\n",
    "    masks = os.listdir(origin_mask_path)\n",
    "    assert len(images) == len(masks)\n",
    "    num_data = len(images)\n",
    "    random.shuffle(images)\n",
    "    os.system(\"rm -rf ./data/train/*\")\n",
    "    os.system(\"rm -rf ./data/test/*\")\n",
    "    os.makedirs(\"./data/train/image\", exist_ok=True)\n",
    "    os.makedirs(\"./data/train/mask\", exist_ok=True)\n",
    "    os.makedirs(\"./data/test/image\", exist_ok=True)\n",
    "    os.makedirs(\"./data/test/mask\", exist_ok=True)\n",
    "    for idx, image in enumerate(tqdm(images)):\n",
    "        image_name = image.split(\"/\")[-1]\n",
    "        os.system(\"cp {} {}\".format(os.path.join(origin_image_path, image_name), os.path.join(f\"./data/{'test' if idx <= num_data // 10 else 'train'}/image\", image_name)))\n",
    "        os.system(\"cp {} {}\".format(os.path.join(origin_mask_path, image_name), os.path.join(f\"./data/{'test' if idx <= num_data // 10 else 'train'}/mask\", image_name)))"
   ]
  },
  {
   "cell_type": "code",
   "execution_count": 3,
   "metadata": {},
   "outputs": [
    {
     "name": "stderr",
     "output_type": "stream",
     "text": [
      "100%|██████████| 2900/2900 [00:07<00:00, 413.31it/s]\n"
     ]
    }
   ],
   "source": [
    "split(\"./data/original/image/\", \"./data/original/mask/\")"
   ]
  },
  {
   "cell_type": "markdown",
   "metadata": {},
   "source": [
    "# Split Image"
   ]
  },
  {
   "cell_type": "code",
   "execution_count": 4,
   "metadata": {},
   "outputs": [],
   "source": [
    "def split_images(input_dir, output_dir):\n",
    "    if not os.path.exists(output_dir):\n",
    "        os.makedirs(output_dir)\n",
    "    image_files = [f for f in os.listdir(input_dir) if f.lower().endswith((\".png\", \".jpg\", \".jpeg\", \".gif\", \".bmp\"))]\n",
    "    for image_file in tqdm(image_files):\n",
    "        input_path = os.path.join(input_dir, image_file)\n",
    "        original_image = Image.open(input_path)\n",
    "        width, height = original_image.size\n",
    "        split_point = width // 2\n",
    "        left_image = original_image.crop((0, 0, split_point, height))\n",
    "        right_image = original_image.crop((split_point, 0, width, height))\n",
    "        left_output_path = os.path.join(output_dir, f\"left_{image_file}\")\n",
    "        right_output_path = os.path.join(output_dir, f\"right_{image_file}\")\n",
    "        right_image = right_image.transpose(Image.FLIP_LEFT_RIGHT)\n",
    "        left_image.save(left_output_path)\n",
    "        right_image.save(right_output_path)"
   ]
  },
  {
   "cell_type": "code",
   "execution_count": 5,
   "metadata": {},
   "outputs": [
    {
     "name": "stderr",
     "output_type": "stream",
     "text": [
      "100%|██████████| 2609/2609 [01:29<00:00, 29.12it/s]\n",
      "100%|██████████| 2609/2609 [00:06<00:00, 407.35it/s]\n",
      "100%|██████████| 291/291 [00:10<00:00, 28.95it/s]\n",
      "100%|██████████| 291/291 [00:00<00:00, 374.17it/s]\n"
     ]
    }
   ],
   "source": [
    "split_images(\"./data/train/image\", \"./data/train/image_splited\")\n",
    "split_images(\"./data/train/mask\", \"./data/train/mask_splited\")\n",
    "split_images(\"./data/test/image\", \"./data/test/image_splited\")\n",
    "split_images(\"./data/test/mask\", \"./data/test/mask_splited\")\n",
    "# split_images(\"./data/predict/image\", \"./data/predict/image_splited\")"
   ]
  },
  {
   "cell_type": "code",
   "execution_count": null,
   "metadata": {},
   "outputs": [],
   "source": [
    "def split_images_overlap(input_dir, output_dir):\n",
    "    if not os.path.exists(output_dir):\n",
    "        os.makedirs(output_dir)\n",
    "    image_files = [f for f in os.listdir(input_dir) if f.lower().endswith((\".png\", \".jpg\", \".jpeg\", \".gif\", \".bmp\"))]\n",
    "    for image_file in tqdm(image_files):\n",
    "        input_path = os.path.join(input_dir, image_file)\n",
    "        original_image = Image.open(input_path)\n",
    "        width, height = original_image.size\n",
    "        split_point = width // 2\n",
    "        left_image = original_image.crop((30, 0, split_point + 30, height))\n",
    "        right_image = original_image.crop((split_point - 30, 0, width - 30, height))\n",
    "        left_output_path = os.path.join(output_dir, f\"left_{image_file}\")\n",
    "        right_output_path = os.path.join(output_dir, f\"right_{image_file}\")\n",
    "        right_image = right_image.transpose(Image.FLIP_LEFT_RIGHT)\n",
    "        left_image.save(left_output_path)\n",
    "        right_image.save(right_output_path)"
   ]
  },
  {
   "cell_type": "code",
   "execution_count": null,
   "metadata": {},
   "outputs": [],
   "source": [
    "# split_images_overlap(\"./data/train/image\", \"./data/train/image_splited\")\n",
    "# split_images_overlap(\"./data/train/mask\", \"./data/train/mask_splited\")\n",
    "# split_images_overlap(\"./data/test/image\", \"./data/test/image_splited\")\n",
    "# split_images_overlap(\"./data/test/mask\", \"./data/test/mask_splited\")\n",
    "# split_images_overlap(\"./data/predict/image\", \"./data/predict/image_splited\")"
   ]
  },
  {
   "cell_type": "markdown",
   "metadata": {},
   "source": [
    "# Filter Illegal Data"
   ]
  },
  {
   "cell_type": "code",
   "execution_count": 6,
   "metadata": {},
   "outputs": [],
   "source": [
    "def is_binary_image_all_zeros(image_path):\n",
    "    with Image.open(image_path) as img:\n",
    "        img = img.convert(\"L\")\n",
    "        pixels = list(img.getdata())\n",
    "        return all(pixel == 0 for pixel in pixels)\n",
    "    \n",
    "\n",
    "def get_illegal_data(mask_dir):\n",
    "    illegal_data = []\n",
    "    for filename in tqdm(os.listdir(mask_dir)):\n",
    "        if filename.endswith((\".png\", \".jpg\", \".jpeg\", \".gif\", \".bmp\")):\n",
    "            image_path = os.path.join(mask_dir, filename)\n",
    "            if is_binary_image_all_zeros(image_path):\n",
    "                illegal_data.append(filename)\n",
    "    return illegal_data\n",
    "\n",
    "\n",
    "def perform_delete(iliiegal_data, image_dir, mask_dir):\n",
    "    for filename in tqdm(iliiegal_data):\n",
    "        os.remove(os.path.join(image_dir, filename))\n",
    "        os.remove(os.path.join(mask_dir, filename))\n",
    "\n",
    "\n",
    "def filter_illegal_data(image_dir, mask_dir):\n",
    "    illegal_data = get_illegal_data(mask_dir)\n",
    "    print(f\"Found {len(illegal_data)} illegal data:\")\n",
    "    print(illegal_data)\n",
    "    input(\"Confirm?\")\n",
    "    perform_delete(illegal_data, image_dir, mask_dir)"
   ]
  },
  {
   "cell_type": "code",
   "execution_count": 7,
   "metadata": {},
   "outputs": [
    {
     "name": "stderr",
     "output_type": "stream",
     "text": [
      "100%|██████████| 5218/5218 [00:07<00:00, 677.85it/s]\n"
     ]
    },
    {
     "name": "stdout",
     "output_type": "stream",
     "text": [
      "Found 8 illegal data:\n",
      "['left_train_0.png', 'left_train_1.png', 'right_A-17.png', 'left_train_898.png', 'right_train_419.png', 'right_train_1.png', 'right_train_0.png', 'left_A-5.png']\n"
     ]
    },
    {
     "name": "stderr",
     "output_type": "stream",
     "text": [
      "100%|██████████| 8/8 [00:00<00:00, 13706.88it/s]\n",
      "100%|██████████| 582/582 [00:00<00:00, 680.74it/s]\n"
     ]
    },
    {
     "name": "stdout",
     "output_type": "stream",
     "text": [
      "Found 0 illegal data:\n",
      "[]\n"
     ]
    },
    {
     "name": "stderr",
     "output_type": "stream",
     "text": [
      "0it [00:00, ?it/s]\n"
     ]
    }
   ],
   "source": [
    "filter_illegal_data(\"./data/train/image_splited\", \"./data/train/mask_splited\")\n",
    "filter_illegal_data(\"./data/test/image_splited\", \"./data/test/mask_splited\")"
   ]
  },
  {
   "cell_type": "markdown",
   "metadata": {},
   "source": [
    "# Generate CSV"
   ]
  },
  {
   "cell_type": "code",
   "execution_count": 10,
   "metadata": {},
   "outputs": [],
   "source": [
    "def generate_csv(type, image_dir, mask_dir = None):\n",
    "    images = os.listdir(image_dir)\n",
    "\n",
    "    if mask_dir is None:\n",
    "        masks = [None] * len(images)\n",
    "    else:\n",
    "        masks = os.listdir(mask_dir)\n",
    "\n",
    "    image_folder = os.path.basename(image_dir)\n",
    "    mask_folder = os.path.basename(mask_dir) if mask_dir is not None else None\n",
    "\n",
    "    assert len(images) == len(masks)\n",
    "\n",
    "    with open(f\"./data/{type}.csv\", \"w\", newline=\"\") as csvfile:\n",
    "        writer = csv.writer(csvfile)\n",
    "        writer.writerow([\"#\", \"img\", \"seg\"])\n",
    "        for i in range(len(images)):\n",
    "            writer.writerow([i, f\"{type}/{image_folder}/{images[i]}\", f\"{type}/{mask_folder}/{masks[i]}\" if mask_dir is not None else \"./placeholder.png\"])"
   ]
  },
  {
   "cell_type": "code",
   "execution_count": 11,
   "metadata": {},
   "outputs": [],
   "source": [
    "generate_csv(\"train\", \"./data/train/image_splited\", \"./data/train/mask_splited\")\n",
    "generate_csv(\"test\", \"./data/test/image_splited\", \"./data/test/mask_splited\")\n",
    "# generate_csv(\"predict\", \"./data/predict/image\")"
   ]
  }
 ],
 "metadata": {
  "kernelspec": {
   "display_name": "sam_adapt",
   "language": "python",
   "name": "python3"
  },
  "language_info": {
   "codemirror_mode": {
    "name": "ipython",
    "version": 3
   },
   "file_extension": ".py",
   "mimetype": "text/x-python",
   "name": "python",
   "nbconvert_exporter": "python",
   "pygments_lexer": "ipython3",
   "version": "3.10.11"
  }
 },
 "nbformat": 4,
 "nbformat_minor": 2
}
